{
 "cells": [
  {
   "cell_type": "markdown",
   "metadata": {},
   "source": [
    "# The NetSecure NIDS\n",
    "The startup company NetSecure has been observing the recent hacks on the news. Because they are working on a new product, and they want to protect their intellectual property, they have decided to improve their network security.\n",
    "\t\n",
    "To this end, they want to deploy a Network Intrusion Detection System (NIDS) that analyses all the traffic passing between their internal network and the internet. Unfortunately, all security solutions provided by security companies are too expensive for NetSecure. Therefore they approached you with the assignment of building a NIDS.\n",
    "\n",
    "## Network setup\n",
    "NetSecure is a small company with only 3 employees. All of whom have a single desktop machine which they use for their daily work. Furthermore, the company runs a server which provides various webservices to the internet. Figure 1 gives an overview of the network structure of NetSecure. It also shows where the NIDS will be placed.\n",
    "\n",
    "<img src=\"network.png\" width=600>\n",
    "<div align=\"center\">Figure 1. Overview of the network setup of company NetSecure, including the IP addresses of their machines.</div>\n",
    "\n",
    "## Available data\n",
    "In order to train the NIDS that you are creating you are given two datasets of network traffic, both captured at the router as given in Figure 1.\n",
    "\t\n",
    " 1. A dataset of benign traffic.\n",
    " 2. A dataset of unknown traffic.\n",
    "\n",
    "It is up to you to train a machine learning algorithm with the benign traffic. Once you have trained the NIDS, you will test the unknown traffic to determine which parts should be classified as benign and which parts should be classified as malicious.\n",
    "\t\n",
    "The network traffic that is captured is provided as a .csv file of individual TCP and UDP packets. Each packet has the following features:\n",
    "\n",
    " * *timestamp*, indicating at what time the packet was sent.\n",
    " * *protocol*, indicating whether the packet was sent over TCP or UDP.\n",
    " * *src*, the source IP address of the packet.\n",
    " * *sport*, the source port of the packet.\n",
    " * *dst*, the destination IP address of the packet.\n",
    " * *dport*, the destination port of the packet.\n",
    " * *packet size*, indicating the amount of bytes sent in the packet.\n",
    "\n",
    "Furthermore, the dataset of benign traffic also contains labels of the applications that are generating the network traffic.\n",
    "\n",
    "## Assignment\n",
    "In this assignment we will walk through all the steps necessary to create a proper NIDS for NetSecure.\n",
    "\n",
    "### 1. Feature selection\n",
    "**Question 1.1.** There are several features in the dataset that we received from NetSecure. Which of these features can be used to train a one-class SVM?\n",
    "*(Hint: think of the datatype of each feature).*"
   ]
  },
  {
   "cell_type": "markdown",
   "metadata": {},
   "source": [
    "*Answer to Question 1* - To train a one-class SVM, we need features of data type int or float because we will extract statistical features from them. So Packet size and timestamp can be used here."
   ]
  },
  {
   "cell_type": "markdown",
   "metadata": {},
   "source": [
    "### 2. Feature extraction\n",
    "The network packets in the transport layer (i.e. TCP and UDP packets) all belong to a network flow. Such a flow is given by the 5-tuple (*protocol*, *src*, *sport*, *dst*, *dport*). All of the packets within such a flow belong to the same application. We can leverage this knowledge to group packets together and extract statistical features from them as a group. Below is a piece of code which loads the files *benign.csv* and *unknown.csv* into a pandas dataframe."
   ]
  },
  {
   "cell_type": "code",
   "execution_count": 863,
   "metadata": {},
   "outputs": [],
   "source": [
    "import numpy  as np\n",
    "import pandas as pd\n",
    "import math\n",
    "from sklearn.preprocessing import MinMaxScaler\n",
    "from scipy.spatial import distance\n",
    "from sklearn.metrics import pairwise_distances\n",
    "\n",
    "def load(filename):\n",
    "    \"\"\"Loads a .csv file as a pandas dataframe.\n",
    "       \n",
    "       In case you prefer to work with a numpy array call .'values' on\n",
    "       the dataframe object. E.g. load('benign.csv').values\n",
    "       \n",
    "       In case you prefer to work with python lists call\n",
    "       '.values.tolist()' on the dataframe object. E.g.\n",
    "       load('benign.csv').values.tolist()\n",
    "       \n",
    "       Parameters\n",
    "       ----------\n",
    "       filename : string\n",
    "           Path to .csv file to load.\n",
    "           \n",
    "        Returns\n",
    "        -------\n",
    "        data  : pandas.DataFrame\n",
    "            The .csv file as a pandas dataframe.\n",
    "        \n",
    "        label : pandas.Series\n",
    "            The labels from the .csv file.\n",
    "       \"\"\"\n",
    "    df = pd.read_csv(filename)\n",
    "    return df.loc[:, df.columns != \"label\"], df[\"label\"].values\n",
    "\n",
    "# Loads the dataframe from given filename\n",
    "data_benign , y_benign  = load('benign.csv')\n",
    "data_unknown, y_unknown = load('unknown.csv')"
   ]
  },
  {
   "cell_type": "markdown",
   "metadata": {},
   "source": [
    "We have implemented the function `aggregate_flows` for you that aggregates the packets according to its flow. It should gives a dictionary mapping the 5-tuple (*protocol*, *src*, *sport*, *dst*, *dport*) to a np.array containing the packets."
   ]
  },
  {
   "cell_type": "code",
   "execution_count": 864,
   "metadata": {},
   "outputs": [],
   "source": [
    "def aggregate_flows(data):\n",
    "    \"\"\"Aggregates packets into flows according to the tuple\n",
    "        (protocol, src, sport, dst, dport) tuple.\n",
    "        \n",
    "        Parameters\n",
    "        ----------\n",
    "        data : pd.DataFrame or np.array or list of list\n",
    "               (depending on preferred implementation).\n",
    "            Data from .csv file.\n",
    "            \n",
    "        Returns\n",
    "        -------\n",
    "        result : dict\n",
    "            Dictionary of (protocol, src, sport, dst, dport) ->\n",
    "                           array-like of packets in flow.\n",
    "        \"\"\"\n",
    "    return {k: v.values for k, v in data.groupby([\"protocol\", \"src\", \"sport\", \"dst\", \"dport\"])}\n",
    "\n",
    "# Calls the aggregate_flows method to create a dictionary\n",
    "aggregated_data_benign  = aggregate_flows(data_benign)\n",
    "aggregated_data_unknown = aggregate_flows(data_unknown)"
   ]
  },
  {
   "cell_type": "markdown",
   "metadata": {},
   "source": [
    "**Question 2.1.** Now that we have grouped all packets belonging to the same flow together, we can compute some statistical features of each group. These features may give us an advantage in the detection phase of our NIDS. Given the numerical features *timestamp* and *length* of each packet, which statistical features can be computed?\n",
    "\n",
    "*(Hint 1: An example feature could be the maximum length of a packet in a flow.)*\n",
    "\n",
    "*(Hint 2: The timestamp itself does not say much about the origin of a packet, however the frequency (i.e. time between packets) might give us some more information.)*\n",
    "\n",
    "**NB:** in this question it is up to you to determine how many features you want to extract. Keep in mind that this will have influence on the performance of your NIDS so think carefully about the features you could extract."
   ]
  },
  {
   "cell_type": "markdown",
   "metadata": {},
   "source": [
    "*Answer to Question 2.1* - For this I am using 4 different features which are: frequency(computing average of time differences between timestamps), smallest packet size, biggest packet size and average packet size"
   ]
  },
  {
   "cell_type": "markdown",
   "metadata": {},
   "source": [
    "**Question 2.2.** We now want to extract these new features for each flow. Therefore you will implement the function `extract_features` which takes the dictionary created by the `aggregate_flows` function and transforms the array of packets into a feature vector containing your features from Question 2.2. E.g. a resulting entry in the dictionary could look something like `(TCP, 10.0.0.1, 8008, 130.80.20.1, 443) -> [feature_1, feature_2, ..., feature_N]`."
   ]
  },
  {
   "cell_type": "code",
   "execution_count": 865,
   "metadata": {},
   "outputs": [],
   "source": [
    "def extract_features(data):\n",
    "    \"\"\"Extracts data per flow tuple.\n",
    "    \n",
    "        Parameters\n",
    "        ----------\n",
    "        data : dict\n",
    "            Dictionary of (protocol, src, sport, dst, dport) ->\n",
    "                           array-like of packets in flow.\n",
    "            That is, the output of aggregate_flows()\n",
    "            \n",
    "        Returns\n",
    "        -------\n",
    "        result : dict\n",
    "            Dictionary of (protocol, src, sport, dst, dport) ->\n",
    "                          list of features.\n",
    "        \"\"\"\n",
    "    # The code between this text should be implemented\n",
    "    extracted_features = dict()\n",
    "    for k, v in data.items():\n",
    "        frequency_sum = 0\n",
    "        lowest_size = 1500\n",
    "        highest_size = 0\n",
    "        sum_size = 0\n",
    "        i = 0\n",
    "        while i < len(v):\n",
    "            if i > 0:\n",
    "                frequency_sum += v[i][0] - v[i-1][0]\n",
    "            if v[i][6] < lowest_size:\n",
    "                lowest_size = v[i][6]\n",
    "            if v[i][6] > highest_size:\n",
    "                highest_size = v[i][6]\n",
    "            sum_size += v[i][6]\n",
    "            i += 1\n",
    "        avg_frequency = frequency_sum/len(v)\n",
    "        average_size = sum_size/len(v)\n",
    "        features = []\n",
    "        features.extend([avg_frequency, lowest_size, highest_size, average_size])\n",
    "        extracted_features[k] = features\n",
    "    return extracted_features\n",
    "    # The code between this text should be implemented\n",
    "\n",
    "# Calls the extract_features method to extract features for each flow\n",
    "extracted_data_benign  = extract_features(aggregated_data_benign)\n",
    "extracted_data_unknown = extract_features(aggregated_data_unknown)"
   ]
  },
  {
   "cell_type": "markdown",
   "metadata": {},
   "source": [
    "We have the extracted data for each flow as a dictionary. However, machine learning algorithms require a matrix of input samples as rows and features as columns. In our case, each sample is a data packet. Hence, we have to transform the data from the .csv file to an input vector of features. We have implement the `feature_vector` method to create a matrix where each row represents a sample and each column represent a feature. The result looks something like this:\n",
    "\n",
    "| $ $        | Feature packet size | Extracted feature 1 | Extracted feature 2 | $\\cdots$ | Extracted feature M |\n",
    "|------------|---------------------|---------------------|---------------------|----------|---------------------|\n",
    "| Sample 1   | $value_{1,0}$       | $value_{1,1}$       | $value_{1,2}$       | $\\cdots$ | $value_{1,M}$       |\n",
    "| Sample 2   | $value_{2,0}$       | $value_{2,1}$       | $value_{2,2}$       | $\\cdots$ | $value_{2,M}$       |\n",
    "| $\\vdots$   | $\\vdots$            | $\\vdots$            | $\\vdots$            | $\\ddots$ |                     |\n",
    "| Sample $N$ | $value_{N,0}$       | $value_{N,1}$       | $value_{N,2}$       | $ $      | $value_{N,M}$       |\n",
    "\n",
    "Where $N$ is the number of samples, and $M$ is the number of features."
   ]
  },
  {
   "cell_type": "code",
   "execution_count": 866,
   "metadata": {},
   "outputs": [
    {
     "name": "stdout",
     "output_type": "stream",
     "text": [
      "Benign  matrix of 41127 samples and 5 features\n",
      "Unknown matrix of 40655 samples and 5 features\n"
     ]
    }
   ],
   "source": [
    "def feature_vector(data, extracted_data):\n",
    "    \"\"\"Transforms the input data from a .csv file to\n",
    "        a numpy-array of features. This includes the\n",
    "        features extracted in the extract_features method.\n",
    "       \n",
    "        Parameters\n",
    "        ----------\n",
    "        data : pandas.DataFrame\n",
    "            Output from load() function.\n",
    "           \n",
    "        extracted_data : dict\n",
    "            Output from extract_features() function.\n",
    "            \n",
    "        Returns\n",
    "        -------\n",
    "        result : np.array of shape=(n_samples, n_features)\n",
    "            All data samples loaded from the .csv file as samples\n",
    "            with the length feature \n",
    "        \"\"\"\n",
    "    # Extract data\n",
    "    flows, features = zip(*extracted_data.items())\n",
    "    # Transform data to numpy array\n",
    "    flows    = np.asarray(flows)\n",
    "    features = np.asarray(features)\n",
    "    \n",
    "    # Create feature vector\n",
    "    feature_vector = np.zeros((data.shape[0], 1 + features.shape[1]), dtype=float)\n",
    "    # Set first column to packet lengths\n",
    "    feature_vector[:, 0] = data[\"size\"].values\n",
    "    \n",
    "    # Group packets by flow\n",
    "    for flow, df in data.groupby([\"protocol\", \"src\", \"sport\", \"dst\", \"dport\"]):\n",
    "        feature_vector[df.index.values, 1:] = extracted_data.get(flow)\n",
    "        \n",
    "    # Return feature vector\n",
    "    return feature_vector\n",
    "\n",
    "# Transforms the input data to a 2D-input vector for a machine learning algorithm\n",
    "X_benign  = feature_vector(data_benign,  extracted_data_benign)\n",
    "X_unknown = feature_vector(data_unknown, extracted_data_unknown)\n",
    "\n",
    "# Show the data\n",
    "print(\"Benign  matrix of {} samples and {} features\".format(X_benign .shape[0], X_benign .shape[1]))\n",
    "print(\"Unknown matrix of {} samples and {} features\".format(X_unknown.shape[0], X_unknown.shape[1]))"
   ]
  },
  {
   "cell_type": "markdown",
   "metadata": {},
   "source": [
    "## 3. Data Preprocessing\n",
    "The data that we have stored in X_benign and X_unknown is composed of different features. All these features are stored within a range of values. For example, the length of a packet is limited by the Maximum Transmission Unit (MTU), which by default is 1500 bytes. Therefore, the length of a packet will not exceed 1500.\n",
    "\n",
    "**Question 3.1.** implement the function `get_range` which takes a feature vector as input and computes the range (i.e. minimum and maximum) for each feature."
   ]
  },
  {
   "cell_type": "code",
   "execution_count": 867,
   "metadata": {},
   "outputs": [
    {
     "name": "stdout",
     "output_type": "stream",
     "text": [
      "Range of feature 0: [       1.0 -     1380.0]\n",
      "Range of feature 1: [       0.0 -        2.0]\n",
      "Range of feature 2: [       1.0 -     1083.0]\n",
      "Range of feature 3: [     186.0 -     1380.0]\n",
      "Range of feature 4: [      95.6 -     1164.4]\n"
     ]
    }
   ],
   "source": [
    "def get_ranges(data):\n",
    "    \"\"\"Retrieves the range for each feature.\n",
    "    \n",
    "        Parameters\n",
    "        ----------\n",
    "        data : array-like of shape=(n_samples, n_features)\n",
    "            The feature vector for which to compute ranges.\n",
    "            This is the output of the feature_vector() function.\n",
    "            \n",
    "        Returns\n",
    "        -------\n",
    "        minima : np.array of shape=(n_features,)\n",
    "            An array containing the smallest value for each feature.\n",
    "            \n",
    "        maxmia : np.array of shape=(n_features,)\n",
    "            An array containing the largest value vor each feature.\n",
    "        \"\"\"\n",
    "    # The code between this text should be implemented\n",
    "    minima = np.asarray(data.min(axis=0))\n",
    "    maxima = np.asarray(data.max(axis=0))\n",
    "    return minima, maxima\n",
    "    # The code between this text should be implemented\n",
    "\n",
    "for index, (minimum, maximum) in enumerate(zip(*get_ranges(X_benign))):\n",
    "    print(\"Range of feature {}: [{:10.1f} - {:10.1f}]\".format(index, minimum, maximum))"
   ]
  },
  {
   "cell_type": "markdown",
   "metadata": {},
   "source": [
    "As you might have seen, the ranges for different features are not the same. This means that a change in a feature with a large range will have a different effect on the detection than a feature with a small range. To ensure that all features will have the same amount of influence on the detection we apply scaling. There are many different scaling techniques, but for the purpose of creating a NIDS, we will use min-max scaling. This scaling technique scales the original values in such a way that the minimum value is mapped to 0, and the maximum value is mapped to 1. The relative distance between each values is preserved. The formula for calculating the new value `z_i` of feature $x_i$ from feature $X$ is given as\n",
    "\n",
    "$$z_i = \\frac{x_i - \\min{(X)}}{\\max{(X)} - \\min{(X)}}.$$\n",
    "\n",
    "As different ranges will be scaled differently to the range 0-1, it is important to `fit` a Scaler object once using the training data, and transform all of the data (i.e. both training and testing data) with the same Scaler object. This ensures that all data that is fed into the NIDS will be scaled proportionally.\n",
    "\n",
    "**Question 3.2.** Implement the `fit` and `transform` methods of the `Scaler` object using the given formula."
   ]
  },
  {
   "cell_type": "code",
   "execution_count": 868,
   "metadata": {},
   "outputs": [
    {
     "name": "stdout",
     "output_type": "stream",
     "text": [
      "Range of feature 0: [       0.0 -        1.0]\n",
      "Range of feature 1: [       0.0 -        1.0]\n",
      "Range of feature 2: [       0.0 -        1.0]\n",
      "Range of feature 3: [       0.0 -        1.0]\n",
      "Range of feature 4: [       0.0 -        1.0]\n"
     ]
    }
   ],
   "source": [
    "class Scaler(object):\n",
    "        \n",
    "    def fit(self, features):\n",
    "        \"\"\"Fits the scaler object by learning the\n",
    "           minimum and maximum values for each feature.\n",
    "            \n",
    "            Parameters\n",
    "            ----------\n",
    "            features : array-like of shape=(n_samples, n_features)\n",
    "                Features from which to fit the model.\n",
    "                \n",
    "            Returns\n",
    "            -------\n",
    "            result : Scaler\n",
    "                Returns self\n",
    "            \"\"\"\n",
    "        # The code between this text should be implemented\n",
    "        if hasattr(self, 'scale_'):\n",
    "            del self.scale_\n",
    "            del self.min_\n",
    "            del self.n_samples_seen_\n",
    "            del self.data_min_\n",
    "            del self.data_max_\n",
    "            del self.data_range_\n",
    "        data_min = np.nanmin(features, axis=0)\n",
    "        data_max = np.nanmax(features, axis=0)\n",
    "        feature_range = (0, 1)\n",
    "        \n",
    "        if not hasattr(self, 'n_samples_seen_'):\n",
    "            self.n_samples_seen_ = features.shape[0]\n",
    "        else:\n",
    "            data_min = np.minimum(self.data_min_, data_min)\n",
    "            data_max = np.maximum(self.data_max_, data_max)\n",
    "            self.n_samples_seen_ += features.shape[0]\n",
    "\n",
    "        data_range = data_max - data_min\n",
    "        self.scale_ = ((feature_range[1] - feature_range[0]) / data_range)\n",
    "        self.min_ = feature_range[0] - data_min * self.scale_\n",
    "        self.data_min_ = data_min\n",
    "        self.data_max_ = data_max\n",
    "        self.data_range_ = data_range\n",
    "        # The code between this text should be implemented\n",
    "        \n",
    "        # DO NOT REMOVE: it is important to return 'self' for fit_transform method\n",
    "        return self\n",
    "        \n",
    "    def transform(self, features):\n",
    "        \"\"\"Transforms the features array using the learned\n",
    "           minimum and maximum values for each feature.\n",
    "            \n",
    "            Parameters\n",
    "            ----------\n",
    "            features : array-like of shape=(n_samples, n_features)\n",
    "                Features to scale.\n",
    "                \n",
    "            Returns\n",
    "            -------\n",
    "            result : np.array of shape=(n_samples, n_features)\n",
    "                Scaled features.\n",
    "            \"\"\"                          \n",
    "        # The code between this text should be implemented\n",
    "        features *= self.scale_\n",
    "        features += self.min_\n",
    "        return features\n",
    "        # The code between this text should be implemented\n",
    "                                                                                  \n",
    "        \n",
    "    def fit_transform(self, features):\n",
    "        \"\"\"First fits the Scaler object with features and then transforms them.\n",
    "        \n",
    "            Parameters\n",
    "            ----------\n",
    "            features : np.array of shape=(n_samples, n_features)\n",
    "                Features to scale.\n",
    "                \n",
    "            Returns\n",
    "            -------\n",
    "            features : np.array of shape=(n_samples, n_features)\n",
    "                Features that have been scaled.\n",
    "            \"\"\"\n",
    "        return self.fit(features).transform(features)\n",
    "    \n",
    "\n",
    "scaler = MinMaxScaler()\n",
    "X_benign_scaled  = scaler.fit_transform(X_benign )\n",
    "X_unknown_scaled = scaler.    transform(X_unknown)\n",
    "\n",
    "# This prints the new minima and maxima values\n",
    "for index, (minimum, maximum) in enumerate(zip(*get_ranges(X_benign_scaled))):\n",
    "    print(\"Range of feature {}: [{:10.1f} - {:10.1f}]\".format(index, minimum, maximum))"
   ]
  },
  {
   "cell_type": "markdown",
   "metadata": {},
   "source": [
    "The feature vectors that we have obtained from the previous exercise can be plotted to see if points from different applications are separated. If they are, we know that a machine learning algorithm can draw a line between them to distinguish each group. Hence, if we see that applications are properly separated, we expect that our classifier will perform well."
   ]
  },
  {
   "cell_type": "code",
   "execution_count": 869,
   "metadata": {},
   "outputs": [
    {
     "data": {
      "image/png": "[encoded data removed]",
      "text/plain": [
       "<Figure size 432x288 with 1 Axes>"
      ]
     },
     "metadata": {
      "needs_background": "light"
     },
     "output_type": "display_data"
    },
    {
     "data": {
      "image/png": "[encoded data removed]",
      "text/plain": [
       "<Figure size 432x288 with 1 Axes>"
      ]
     },
     "metadata": {
      "needs_background": "light"
     },
     "output_type": "display_data"
    },
    {
     "data": {
      "image/png": "[encoded data removed]",
      "text/plain": [
       "<Figure size 432x288 with 1 Axes>"
      ]
     },
     "metadata": {
      "needs_background": "light"
     },
     "output_type": "display_data"
    },
    {
     "data": {
      "image/png": "[encoded data removed]",
      "text/plain": [
       "<Figure size 432x288 with 1 Axes>"
      ]
     },
     "metadata": {
      "needs_background": "light"
     },
     "output_type": "display_data"
    }
   ],
   "source": [
    "from sklearn.decomposition import PCA\n",
    "import matplotlib        as mpl\n",
    "import matplotlib.pyplot as plt\n",
    "%matplotlib inline\n",
    "\n",
    "def plot(X, y):\n",
    "    \"\"\"Plots the feature vectors given by X and labelled by y.\n",
    "    \n",
    "        Parameters\n",
    "        ----------\n",
    "        X : array-like of shape=(n_samples, n_features)\n",
    "            Feature vectors to plot.\n",
    "        \n",
    "        y : array-like of shape=(n_features,)\n",
    "            Labels corresponding to the feature vectors.\n",
    "        \"\"\"\n",
    "    # Transform to numpy arrays\n",
    "    X = np.asarray(X)\n",
    "    y = np.asarray(y)\n",
    "    \n",
    "    # The PCA(n) takes all features from X and compresses them\n",
    "    # into n dimensions, in our case to 2 dimensions for plotting.    \n",
    "    X = PCA(2).fit_transform(X)\n",
    "    \n",
    "    # Next for each label, we scatter the corresponding points\n",
    "    for label in np.unique(y):\n",
    "        plt.scatter(X[:, 0][y == label], X[:, 1][y == label], label=label)\n",
    "        \n",
    "    # Finally we show the plot\n",
    "    plt.legend(loc='center left', bbox_to_anchor=(1, 0.5))\n",
    "    plt.show()\n",
    "    \n",
    "# Plot the data\n",
    "plot(X_benign, y_benign)          # Plot of features unscaled\n",
    "plot(X_benign_scaled, y_benign)   # Plot of features scaled\n",
    "plot(X_unknown, y_unknown)        # Plot of unknown features unscaled\n",
    "plot(X_unknown_scaled, y_unknown) # Plot of unknown features scaled"
   ]
  },
  {
   "cell_type": "markdown",
   "metadata": {},
   "source": [
    "**Question 3.3.** Look at the above plots, the first plot is of the unscaled features and the second plot is of the scaled features. As we can see, the scaled features are separated better then the unscaled features. However, are all applications seperated properly? If you see some overlap, is this something you could explain or do you need to choose different features?\n",
    "\n",
    "**NB:** Note that some overlap might be caused by the dimentionality reduction from the PCA in the plotting method. However, this will very likely result in clusters being very close together, but will likely not result in a *complete* overlap."
   ]
  },
  {
   "cell_type": "markdown",
   "metadata": {},
   "source": [
    "*Answer to question 3.3.* - As we see in plot 2, firefox, chrome and web server have overlapping. This is because applications which are similar to each other have overlap. We could also choose the total time of usage as a feature which will differentiate the similar applications."
   ]
  },
  {
   "cell_type": "markdown",
   "metadata": {},
   "source": [
    "## 4. Model/Parameter selection\n",
    "Currently we have a matrix stored in the variable `feature_vectors` for which each row contains a data sample, and each column a feature. Now that we have prepared the features that we feed into our NIDS, we have to choose an anomaly detection algorithm to observe new behaviour. Given that we only have access to benign data and unknown data, we cannot train a classifier. Therefore, we need to train a novelty/outlier detection algorithm. In this assignment we will use a One-Class SVM.\n",
    "\n",
    "As you have learned during the lecture, a One-Class SVM uses a kernel function K to define the geometric relationship between a feature vector X and the support vectors Y. For an RBF (Gaussian) kernel, this relationship is defined as:\n",
    "\n",
    "$$K(X, Y) = e^{-\\frac{||x - y||^2}{2\\sigma^2}}$$\n",
    "\n",
    "**Question 4.1.** Implement the RBF kernel function."
   ]
  },
  {
   "cell_type": "code",
   "execution_count": 871,
   "metadata": {},
   "outputs": [],
   "source": [
    "def K(X, Y, sigma=1):\n",
    "    \"\"\"RBF (Gaussian) kernel function.\n",
    "    \n",
    "        Parameters\n",
    "        ----------\n",
    "        X : np.array of shape=(n_features,)\n",
    "            Vector X for which to compute the RBF kernel function with respect to Y.\n",
    "            \n",
    "        Y : np.array of shape=(n_features,)\n",
    "            Vector Y for which to compute the RBF kernel function with respect to X.\n",
    "            \n",
    "        sigma : float, default=1\n",
    "            Width of each kernel.\n",
    "            \n",
    "        Returns\n",
    "        -------\n",
    "        result : float\n",
    "            RBF kernel score.\n",
    "        \"\"\"\n",
    "    # The code between this text should be implemented\n",
    "    K = distance.sqeuclidean(X, Y)\n",
    "    K /= -2*(sigma**2)\n",
    "    K = np.exp(K)\n",
    "    return K\n",
    "    # The code between this text should be implemented"
   ]
  },
  {
   "cell_type": "markdown",
   "metadata": {},
   "source": [
    "A support vector machine (SVM) uses its kernel function to compute a score between a feature vector $X$ and support vector $Y$. You can think of the score as the likelihood **(note that it is not a probability)** that $X$ and $Y$ originate from the same underlying distribution. Because an SVM contains multiple support vectors $Y_i$, we can assign a score to feature vector $X$ based on the likelihood that it shares the same underlying distribution with any of our support vectors $Y_i \\in Y$. We compute this overall score by simply adding the (weighted) scores for $X$ with each support vector $Y_i$, which is called the soft score:\n",
    "\n",
    "$$soft\\;score = \\sum_{i=0}^N w_iK(X, Y_i)$$\n",
    "\n",
    "We compare this soft score with a threshold $\\tau$ to determine if a point falls within or outside our model. The code below computes the soft score with all weights as 1 for all given points $X$, support vectors $Y$ and kernel $K$."
   ]
  },
  {
   "cell_type": "code",
   "execution_count": 872,
   "metadata": {},
   "outputs": [],
   "source": [
    "def soft_score(X, Y, K, **kwargs):\n",
    "    \"\"\"Compute the soft score by computing the kernel function\n",
    "        between each point and each support_vector.\n",
    "        The scores are then added to create a soft score.\n",
    "        Note that this function is not weighted, in reality\n",
    "        weights are added to adjust the importance of each\n",
    "        support vector.\n",
    "        \n",
    "        Parameters\n",
    "        ----------\n",
    "        X : np.array of shape=(n_samples, n_features)\n",
    "            Points for which to compute the soft score.\n",
    "            \n",
    "        Y : np.array of shape=(n_samples, n_features)\n",
    "            Support vectors used to compute the score.\n",
    "            \n",
    "        K : func\n",
    "            Kernel function to compute each individual score.\n",
    "            \n",
    "        **kwargs : optional\n",
    "            Optional arguments for the kernel\n",
    "            \n",
    "        Returns\n",
    "        -------\n",
    "        result : np.array of shape=(n_samples,)\n",
    "            Soft score for each point in X.\n",
    "        \"\"\"\n",
    "    # Get vectors as numpy arrays\n",
    "    X = np.asarray(X)\n",
    "    Y = np.asarray(Y)\n",
    "    \n",
    "    # Compute scores between each point of X and each support_vector\n",
    "    scores = pairwise_distances(X, Y, metric=K, **kwargs)\n",
    "    \n",
    "    # Compute the added scores\n",
    "    return scores.sum(axis=1)    "
   ]
  },
  {
   "cell_type": "markdown",
   "metadata": {},
   "source": [
    "The code snippet below generates random support vectors and shows the soft score values in a plane. All feature vectors that appear in the red area are considered to fall within the soft hypersphere. All feature vecotrs outside the area are considered anomalous."
   ]
  },
  {
   "cell_type": "code",
   "execution_count": 873,
   "metadata": {},
   "outputs": [
    {
     "data": {
      "image/png": "[encoded data removed]",
      "text/plain": [
       "<Figure size 432x288 with 1 Axes>"
      ]
     },
     "metadata": {
      "needs_background": "light"
     },
     "output_type": "display_data"
    },
    {
     "data": {
      "image/png": "[encoded data removed]",
      "text/plain": [
       "<Figure size 432x288 with 1 Axes>"
      ]
     },
     "metadata": {
      "needs_background": "light"
     },
     "output_type": "display_data"
    },
    {
     "data": {
      "image/png": "[encoded data removed]",
      "text/plain": [
       "<Figure size 432x288 with 1 Axes>"
      ]
     },
     "metadata": {
      "needs_background": "light"
     },
     "output_type": "display_data"
    }
   ],
   "source": [
    "import matplotlib.pyplot as plt\n",
    "import numpy as np\n",
    "\n",
    "def plot_kernels(support_vectors, K, threshold=2, **kwargs):\n",
    "    \"\"\"Function to plot scores and decision boundary for given support vectors.\n",
    "    \n",
    "        Parameters\n",
    "        ----------\n",
    "        support_vectors : np.array of shape=(n_vectors, n_features)\n",
    "            Support vectors for which to plot the soft score.\n",
    "            \n",
    "        K : func\n",
    "            Kernel function to compute the soft scores.\n",
    "            \n",
    "        threshold : float, default=2\n",
    "            Decision threshold.\n",
    "            All scores higher than this threshold will be inside the model.\n",
    "            All scores lower than this threshold will are anomalous.\n",
    "            \n",
    "        **kwargs: optional\n",
    "            Optional arguments to give to the kernel function K.\n",
    "        \"\"\"\n",
    "    # Create meshgrid\n",
    "    xx, yy = np.meshgrid(np.linspace(-7, 7, 100),\n",
    "                         np.linspace(-7, 7, 100))\n",
    "    # Compute decision function\n",
    "    Z = soft_score(np.c_[xx.ravel(), yy.ravel()], support_vectors, K, **kwargs)\n",
    "    Z = Z.reshape(xx.shape)\n",
    "\n",
    "    # Plot smooth contour\n",
    "    plt.contourf(xx, yy, Z, levels=np.linspace(Z.min()+.001, threshold, 7), cmap=plt.cm.PuBu)\n",
    "    plt.contour (xx, yy, Z, levels=[threshold], linewidths=2, colors='darkred')\n",
    "    plt.contourf(xx, yy, Z, levels=[threshold, Z.max()], colors='palevioletred')\n",
    "\n",
    "    # Plot support vectors\n",
    "    plt.scatter(support_vectors[:, 0],\n",
    "                support_vectors[:, 1],\n",
    "                c='black')\n",
    "    \n",
    "    plt.xlabel(\"Plot for kernel K with threshold={}{}.\".format(threshold,\n",
    "               \", {}\".format(\", \".join(\"{}={}\".format(k, v) for k, v in sorted(kwargs.items()))) if kwargs else \"\"))\n",
    "    \n",
    "    # Show plot\n",
    "    plt.show()\n",
    "\n",
    "# Create seeded randomness generator\n",
    "random = np.random.RandomState(1)\n",
    "# Create support vectors to plot\n",
    "support_vectors = np.concatenate((random.rand(3, 2) + [-3,  3],\n",
    "                                  random.rand(3, 2) + [ 2, -3],\n",
    "                                  random.rand(3, 2) + [ 4,  5]))\n",
    "\n",
    "# Create plots for different threshold and sigma values\n",
    "plot_kernels(support_vectors, K, threshold=1, sigma=1)\n",
    "plot_kernels(support_vectors, K, threshold=1, sigma=2)\n",
    "plot_kernels(support_vectors, K, threshold=2, sigma=2)"
   ]
  },
  {
   "cell_type": "markdown",
   "metadata": {},
   "source": [
    "**Question 4.2 (Optional)** Create other kernels, e.g. a polynomial kernel and see how the decision bounds change in the plot."
   ]
  },
  {
   "cell_type": "code",
   "execution_count": 292,
   "metadata": {},
   "outputs": [
    {
     "name": "stderr",
     "output_type": "stream",
     "text": [
      "/Applications/anaconda3/lib/python3.7/site-packages/matplotlib/contour.py:1520: UserWarning: Warning: converting a masked element to nan.\n",
      "  self.zmax = float(z.max())\n",
      "/Applications/anaconda3/lib/python3.7/site-packages/matplotlib/contour.py:1521: UserWarning: Warning: converting a masked element to nan.\n",
      "  self.zmin = float(z.min())\n",
      "/Applications/anaconda3/lib/python3.7/site-packages/matplotlib/colors.py:527: RuntimeWarning: invalid value encountered in less\n",
      "  xa[xa < 0] = -1\n",
      "/Applications/anaconda3/lib/python3.7/site-packages/ipykernel_launcher.py:32: UserWarning: No contour levels were found within the data range.\n"
     ]
    },
    {
     "data": {
      "image/png": "[encoded data removed]",
      "text/plain": [
       "<Figure size 432x288 with 1 Axes>"
      ]
     },
     "metadata": {
      "needs_background": "light"
     },
     "output_type": "display_data"
    },
    {
     "name": "stderr",
     "output_type": "stream",
     "text": [
      "/Applications/anaconda3/lib/python3.7/site-packages/matplotlib/contour.py:1520: UserWarning: Warning: converting a masked element to nan.\n",
      "  self.zmax = float(z.max())\n",
      "/Applications/anaconda3/lib/python3.7/site-packages/matplotlib/contour.py:1521: UserWarning: Warning: converting a masked element to nan.\n",
      "  self.zmin = float(z.min())\n",
      "/Applications/anaconda3/lib/python3.7/site-packages/matplotlib/colors.py:527: RuntimeWarning: invalid value encountered in less\n",
      "  xa[xa < 0] = -1\n",
      "/Applications/anaconda3/lib/python3.7/site-packages/ipykernel_launcher.py:32: UserWarning: No contour levels were found within the data range.\n"
     ]
    },
    {
     "data": {
      "image/png": "[encoded data removed]",
      "text/plain": [
       "<Figure size 432x288 with 1 Axes>"
      ]
     },
     "metadata": {
      "needs_background": "light"
     },
     "output_type": "display_data"
    },
    {
     "name": "stderr",
     "output_type": "stream",
     "text": [
      "/Applications/anaconda3/lib/python3.7/site-packages/matplotlib/contour.py:1520: UserWarning: Warning: converting a masked element to nan.\n",
      "  self.zmax = float(z.max())\n",
      "/Applications/anaconda3/lib/python3.7/site-packages/matplotlib/contour.py:1521: UserWarning: Warning: converting a masked element to nan.\n",
      "  self.zmin = float(z.min())\n",
      "/Applications/anaconda3/lib/python3.7/site-packages/matplotlib/colors.py:527: RuntimeWarning: invalid value encountered in less\n",
      "  xa[xa < 0] = -1\n",
      "/Applications/anaconda3/lib/python3.7/site-packages/ipykernel_launcher.py:32: UserWarning: No contour levels were found within the data range.\n"
     ]
    },
    {
     "data": {
      "image/png": "[encoded data removed]",
      "text/plain": [
       "<Figure size 432x288 with 1 Axes>"
      ]
     },
     "metadata": {
      "needs_background": "light"
     },
     "output_type": "display_data"
    }
   ],
   "source": [
    "def my_K(X, Y):\n",
    "    \"\"\"Your own kernel function.\n",
    "    \n",
    "        Parameters\n",
    "        ----------\n",
    "        X : np.array of shape=(n_features,)\n",
    "            Vector X for which to compute the kernel function with respect to Y.\n",
    "            \n",
    "        Y : np.array of shape=(n_features,)\n",
    "            Vector Y for which to compute the kernel function with respect to X.\n",
    "            \n",
    "        Returns\n",
    "        -------\n",
    "        result : float\n",
    "            Kernel score.\n",
    "        \"\"\"\n",
    "    # The code between this text should be implemented\n",
    "    pass\n",
    "    # The code between this text should be implemented\n",
    "\n",
    "# Create seeded randomness generator\n",
    "random = np.random.RandomState(1)\n",
    "# Create support vectors to plot\n",
    "support_vectors = np.concatenate((random.rand(3, 2) + [-3,  3],\n",
    "                                  random.rand(3, 2) + [ 2, -3],\n",
    "                                  random.rand(3, 2) + [ 4,  5]))\n",
    "\n",
    "# Create plots for different threshold and sigma values\n",
    "plot_kernels(support_vectors, my_K, threshold=1)\n",
    "plot_kernels(support_vectors, my_K, threshold=1)\n",
    "plot_kernels(support_vectors, my_K, threshold=2)"
   ]
  },
  {
   "cell_type": "markdown",
   "metadata": {},
   "source": [
    "## 5. Evaluation\n",
    "\n",
    "Now that we have taken a closer look at One-Class SVMs, we have to think about how we can train, test and evaluate the model. We do this to get an idea of how well the NIDS performs, which allows us to optimise its parameters before deployment and classification of the unknown data. In order to evaluate our model, we require labelled data, i.e. data from the `benign.csv` file. Given that all data is benign, it might seem difficult to do any assessment on whether there are malicious network connections. However, we can think of ways to redefine our problem such that we can only use benign data in order to train and test the NIDS.\n",
    "\n",
    "All data in the `benign.csv` file is labelled with the corresponding application that produced the data. We know that a malicious program is just another application that we have not seen in our benign data. We will leverage this observation in order to train and test our model.\n",
    "\n",
    "To this end, we select a portion of labels $L_{train}$ from a dataset $D$, which in our case comes from the `benign.csv` file. Next, we create our training dataset $D_{train}$ by randomly selecting (without replacement) a number of elements from our dataset corresponding to those labels. Our dataset $D_{test}$ is composed of all the elements in $D$ that have not been selected for $D_{train}$, i.e. $D_{test} = D \\setminus D_{train}$. This means that $D_{train}$ contains datapoints with labels $L_{train}$ and $D_{test}$ contains datapoints with labels from all labels in our dataset $D$. Figure 2 gives a visual representation of an example split.\n",
    "\n",
    "<img src=\"split.png\" width=600>\n",
    "<div align=\"center\">Figure 2. Example split where Labels $1$, $2$, and $5$ are selected for training and Labels $3$ and $4$ are selected for testing.</div>\n",
    "\n",
    "As an example, suppose that we have a dataset from 4 applications: $L = \\lbrace \\text{Firefox}, \\text{Word}, \\text{Git}, \\text{Excel} \\rbrace$. Now we randomly select (without replacement) half of the labels to fit into $L_{train}$. E.g. we select $L_{train} = \\lbrace \\text{Firefox}, \\text{Excel} \\rbrace$. Next we define a training dataset $D_{train}$ containing random elements from our `benign.csv` dataset that have a corresponding label of Firefox or Excel. Finally, we use all of the remaining datapoints for $D_{test}$.\n",
    "\n",
    "**Question 5.1.** Implement the function `split_train_test` that implements the split technique described above.\n",
    "\n",
    "*(Hint: see [Numpy RandomState](https://docs.scipy.org/doc/numpy-1.15.1/reference/generated/numpy.random.RandomState.html#numpy.random.RandomState)) for reproducable randomness.)*"
   ]
  },
  {
   "cell_type": "markdown",
   "metadata": {},
   "source": [
    " "
   ]
  },
  {
   "cell_type": "code",
   "execution_count": 875,
   "metadata": {},
   "outputs": [
    {
     "name": "stdout",
     "output_type": "stream",
     "text": [
      "Application          | In train set | In test set\n",
      "-------------------------------------------------\n",
      "Anti Virus           |         True |        True\n",
      "Chrome               |         True |        True\n",
      "DNS Server           |         True |        True\n",
      "Excel                |        False |        True\n",
      "Firefox              |         True |        True\n",
      "Git                  |         True |        True\n",
      "IntelliJ             |        False |        True\n",
      "Mail Server          |        False |        True\n",
      "Outlook              |         True |        True\n",
      "PowerPoint           |         True |        True\n",
      "Thunderbird          |        False |        True\n",
      "Web Server           |         True |        True\n",
      "Word                 |         True |        True\n"
     ]
    }
   ],
   "source": [
    "def split_train_test(X, y, label_train_size=3/4, data_train_size=3/4, random_seed=42):\n",
    "    \"\"\"Takes data and labels and splits it into training and testing data and labels.\n",
    "\n",
    "        Parameters\n",
    "        ----------\n",
    "        X : np.array of shape=(n_samples, n_features)\n",
    "            Data to split into training and testing sets.\n",
    "            \n",
    "        y : np.array of shape=(n_samples,)\n",
    "            Labels to split into training and testing sets.\n",
    "            \n",
    "        label_train_size : float, default=3/4\n",
    "            Proportion of labels to train with.\n",
    "            \n",
    "        data_train_size : float, default=3/4\n",
    "            Proportion of data with training_label to train with.\n",
    "            \n",
    "        random_seed : int, default=42\n",
    "            Seed to use in your random function, for reproducability.\n",
    "\n",
    "        Returns\n",
    "        -------\n",
    "        X_train : np.array of shape=(n_samples_train, n_features)\n",
    "            Training data obtained by split.\n",
    "            \n",
    "        y_train : np.array of shape=(n_samples_train,)\n",
    "            Training labels obtained by split.\n",
    "            \n",
    "        X_test : np.array of shape=(n_samples_test, n_features)\n",
    "            Testing data obtained by split.\n",
    "            \n",
    "        y_test : np.array of shape=(n_samples_test,)\n",
    "            Testing labels obtained by split.\n",
    "    \"\"\"\n",
    "    # Use this object for generating randomness\n",
    "    random = np.random.RandomState(random_seed)\n",
    "    \n",
    "    # The code between this text should be implemented\n",
    "    n_samples = X.shape[0]\n",
    "    l = np.unique(y)\n",
    "    l_train_labels = random.choice(len(l), int(len(l)*label_train_size), replace=False)\n",
    "    l_train_unique = []\n",
    "    for i in l_train_labels:\n",
    "        l_train_unique.append(l[i])\n",
    "            \n",
    "    i = 0\n",
    "    l_train_index = []\n",
    "    for label in y:\n",
    "        if label in l_train_unique:\n",
    "            l_train_index.append(i)\n",
    "        i += 1\n",
    "    \n",
    "    random_train_index = random.choice(l_train_index, int(len(l_train_index)*data_train_size), replace=False)\n",
    "    d_train = []\n",
    "    l_train = []\n",
    "    for i in random_train_index:\n",
    "        d_train.append(X[i])\n",
    "        l_train.append(y[i])\n",
    "    \n",
    "    d_test = np.delete(X, random_train_index, 0)\n",
    "    l_test = np.delete(y, random_train_index)\n",
    "    \n",
    "    return d_train, l_train, d_test, l_test\n",
    "\n",
    "# Get the \n",
    "X_train, y_train, X_test, y_test = split_train_test(X_benign_scaled, y_benign)\n",
    "# Ensure the samples are numpy arrays\n",
    "X_train = np.asarray(X_train)\n",
    "y_train = np.asarray(y_train)\n",
    "X_test  = np.asarray(X_test )\n",
    "y_test  = np.asarray(y_test )\n",
    "\n",
    "# Shows all labels in training set\n",
    "apps_all     = np.unique(y_benign)\n",
    "apps_trained = set(apps_all[np.isin(apps_all, y_train)])\n",
    "\n",
    "print(\"{:20} | {} | {}\".format(\"Application\", \"In train set\", \"In test set\"))\n",
    "print(\"-------------------------------------------------\")\n",
    "for app in sorted(apps_all):\n",
    "    print(\"{:20} | {:>12} | {:>11}\".format(app, str(app in apps_trained), str(app in apps_all)))"
   ]
  },
  {
   "cell_type": "markdown",
   "metadata": {},
   "source": [
    "Given these test and training datasets we can evaluate our chosen model on the `benign.csv` dataset before we will apply it to the `unknown.csv` dataset. However, before we evaluate this model, we actually have to train it and give out a prediction. To this end, we will use the [Scikit-Learn - OneClassSVM](https://scikit-learn.org/stable/modules/generated/sklearn.svm.OneClassSVM.html#sklearn.svm.OneClassSVM) implementation of the One-Class SVM. This model needs to be fitted with train data of known classes. Subsequently it will predict testing samples as +1 if they fit the known model, or -1 if they are considered anomalous.\n",
    "\n",
    "**Question 5.2.** Import the One-class SVM from [Scikit-Learn - OneClassSVM](https://scikit-learn.org/stable/modules/generated/sklearn.svm.OneClassSVM.html#sklearn.svm.OneClassSVM), train it with `X_train` and let it make a prediction on the `X_test` data. Note that the `gamma` parameter for the RBF kernel in this library is defined as $\\gamma = \\frac{1}{2\\sigma^2}$. Therefore its RBF kernel is defined as:\n",
    "\n",
    "$$K(X, Y) = e^{-\\gamma||x - y||^2}$$"
   ]
  },
  {
   "cell_type": "code",
   "execution_count": 876,
   "metadata": {},
   "outputs": [
    {
     "name": "stdout",
     "output_type": "stream",
     "text": [
      "Predicted known   samples: 9322\n",
      "Predicted unknown samples: 3518\n"
     ]
    }
   ],
   "source": [
    "# Answer question 5.2 here.\n",
    "\n",
    "from sklearn.svm import OneClassSVM\n",
    "\n",
    "class NIDS(object):\n",
    "    \n",
    "    def __init__(self):\n",
    "        \"\"\"Network Intrusion Detection System (NIDS).\n",
    "            This code is executed when you create a new NIDS object.\n",
    "            Here you can create a new instance of the OneClassSVM\n",
    "            \"\"\"\n",
    "        # The code between this text should be implemented\n",
    "        self.svm_ = OneClassSVM(kernel='rbf', gamma=110, nu=0.000009)\n",
    "        # The code between this text should be implemented\n",
    "    \n",
    "    def train(self, X):\n",
    "        \"\"\"Train your NIDS by fitting the classifier.\n",
    "        \n",
    "            Parameters\n",
    "            ----------\n",
    "            X : array-like of shape=(n_samples, n_features)\n",
    "                Data used to train your classifier.\n",
    "            \"\"\"\n",
    "        # The code between this text should be implemented\n",
    "        self.svm_.fit(X)\n",
    "        # The code between this text should be implemented\n",
    "    \n",
    "    def predict(self, X):\n",
    "        \"\"\"Predict samples using your NIDS.\n",
    "        \n",
    "            Parameters\n",
    "            ----------\n",
    "            X : array-like of shape=(n_samples, n_features)\n",
    "                Data which your classifier should predict\n",
    "                \n",
    "            Returns\n",
    "            -------\n",
    "            result : np.array of shape=(n_samples,)\n",
    "                Output labels of +1 if known or -1 if anomaly.\n",
    "            \"\"\"\n",
    "        # The code between this text should be implemented\n",
    "        self.pred_test_ = self.svm_.predict(X)\n",
    "        output = np.array(self.pred_test_)\n",
    "        return output\n",
    "        # The code between this text should be implemented\n",
    "\n",
    "# Create NIDS\n",
    "nids = NIDS()\n",
    "# Fit NIDS classifier with training data\n",
    "nids.train(X_train)\n",
    "# Perform prediction\n",
    "prediction = nids.predict(X_test)\n",
    "\n",
    "# Show the amount of samples predicted as normal/anomalous\n",
    "print(\"Predicted known   samples: {}\".format(np.sum(prediction ==  1)))\n",
    "print(\"Predicted unknown samples: {}\".format(np.sum(prediction == -1)))"
   ]
  },
  {
   "cell_type": "markdown",
   "metadata": {},
   "source": [
    "The prediction algorithm outputs labels of +1 (known) when a sample fits the training data and -1 (unknown) when a sample does not fit the training data. In order for us to compare the predictions with the actual labels, we have to transform the labels to +1 in case they are in the training dataset or -1 in case they are not the training dataset.\n",
    "The code below transform your labels to +1 if they are in `y_train` and to -1 otherwise by implementing `get_label_as_prediction`."
   ]
  },
  {
   "cell_type": "code",
   "execution_count": 877,
   "metadata": {},
   "outputs": [],
   "source": [
    "def get_label_as_prediction(labels, y_train):\n",
    "    \"\"\"Transforms labels into values of +1 in case they are in y_train\n",
    "       or -1 in case they are not in y_train.\n",
    "       \n",
    "        Parameters\n",
    "        ----------\n",
    "        labels : array-like of shape=(n_features,)\n",
    "            Labels to transform into +1 or -1.\n",
    "           \n",
    "        y_train : array-like of shape=(n_features,)\n",
    "            Labels used for training.\n",
    "        \"\"\"\n",
    "    # Transform into numpy array\n",
    "    labels  = np.asarray(labels)\n",
    "    y_train = np.asarray(y_train)\n",
    "\n",
    "    return np.where(np.isin(labels, np.unique(y_train)), 1, -1)\n",
    "\n",
    "y_test_as_pred  = get_label_as_prediction(y_test , y_train)\n",
    "y_train_as_pred = get_label_as_prediction(y_train, y_train)"
   ]
  },
  {
   "cell_type": "markdown",
   "metadata": {},
   "source": [
    "Given the prediction of our anomaly detector we can compute a number of metrics to evaluate our classification. Most metrics used for evaluation of classifiers are based on 4 possible outcomes of the classification:\n",
    " * True Positives (TP), the amount of samples labelled as *unknown*, that should be labelled as *unknown*.\n",
    " * True Negatives (TN), the amount of samples labelled as *known*, that should be labelled as *known*.\n",
    " * False Positives (FP), the amount of samples labelled as *unknown*, that should be labelled as *known*.\n",
    " * False Negatives (FN), the amount of samples labelled as *known*, that should be labelled as *unknown*.\n",
    " \n",
    "Or in a diagram:\n",
    "\n",
    "| $ $                | Expected Unknown | Expected Known |\n",
    "|--------------------|------------------|----------------|\n",
    "| Predicted Unknown  | TP               | FP             |\n",
    "| Predicted Known    | FN               | TN             |\n",
    "\n",
    "**Question 5.3.** Given these definitions of TP, TN, FP, FN, implement the methods that compute them given the predictions and actual labels."
   ]
  },
  {
   "cell_type": "code",
   "execution_count": 878,
   "metadata": {},
   "outputs": [],
   "source": [
    "def TP(predictions, labels):\n",
    "    \"\"\"Computes the amount of True Positives.\n",
    "    \n",
    "        Parameters\n",
    "        ----------\n",
    "        predictions : array-like of shape=(n_samples,)\n",
    "            Predicted values over which to compute True Positives.\n",
    "            \n",
    "        labels : array-like of shape=(n_samples,)\n",
    "            Actual values over which to compute True Positives.\n",
    "            \n",
    "        Returns\n",
    "        -------\n",
    "        result : int\n",
    "            Number of True Positive labels.\n",
    "        \"\"\"\n",
    "    # The code between this text should be implemented\n",
    "    tp = 0\n",
    "    for i in range(len(labels)):\n",
    "        if predictions[i] == labels[i] == -1:\n",
    "            tp += 1\n",
    "    return tp\n",
    "    # The code between this text should be implemented\n",
    "\n",
    "def TN(predictions, labels):\n",
    "    \"\"\"Computes the amount of True Negatives.\n",
    "    \n",
    "        Parameters\n",
    "        ----------\n",
    "        predictions : array-like of shape=(n_samples,)\n",
    "            Predicted values over which to compute True Negatives.\n",
    "            \n",
    "        labels : array-like of shape=(n_samples,)\n",
    "            Actual values over which to compute True Negatives.\n",
    "            \n",
    "        Returns\n",
    "        -------\n",
    "        result : int\n",
    "            Number of True Negatives labels.\n",
    "        \"\"\"\n",
    "    # The code between this text should be implemented\n",
    "    tn = 0\n",
    "    for i in range(len(labels)):\n",
    "        if predictions[i] == labels[i] == 1:\n",
    "            tn += 1\n",
    "    return tn\n",
    "    # The code between this text should be implemented\n",
    "\n",
    "def FP(predictions, labels):\n",
    "    \"\"\"Computes the amount of False Positives.\n",
    "    \n",
    "        Parameters\n",
    "        ----------\n",
    "        predictions : array-like of shape=(n_samples,)\n",
    "            Predicted values over which to compute False Positives.\n",
    "            \n",
    "        labels : array-like of shape=(n_samples,)\n",
    "            Actual values over which to compute False Positives.\n",
    "            \n",
    "        Returns\n",
    "        -------\n",
    "        result : int\n",
    "            Number of False Positive labels.\n",
    "        \"\"\"\n",
    "    # The code between this text should be implemented\n",
    "    fp = 0\n",
    "    for i in range(len(labels)):\n",
    "        if predictions[i] == -1 and labels[i] == 1:\n",
    "            fp += 1\n",
    "    return fp\n",
    "    # The code between this text should be implemented\n",
    "\n",
    "def FN(predictions, labels):\n",
    "    \"\"\"Computes the amount of False Negatives.\n",
    "    \n",
    "        Parameters\n",
    "        ----------\n",
    "        predictions :  array-like of shape=(n_samples,)\n",
    "            Predicted values over which to compute False Negatives.\n",
    "            \n",
    "        labels : array-like of shape=(n_samples,)\n",
    "            Actual values over which to compute False Negatives.\n",
    "            \n",
    "        Returns\n",
    "        -------\n",
    "        result : int\n",
    "            Number of False Negatives labels.\n",
    "        \"\"\"\n",
    "    # The code between this text should be implemented\n",
    "    fn = 0\n",
    "    for i in range(len(labels)):\n",
    "        if predictions[i] == 1 and labels[i] == -1:\n",
    "            fn += 1\n",
    "    return fn\n",
    "    # The code between this text should be implemented"
   ]
  },
  {
   "cell_type": "markdown",
   "metadata": {},
   "source": [
    "From the implementation of True/False Positive/Negative values we can derrive several metrics. There are various metrics that are used widely in the evaluation of machine learning techniques. We will discuss and implement 5 of these.\n",
    "\n",
    "The True Positive Rate (TPR), also called sensitivity, measures the proportion of actual positives that are correctly identified as such.\n",
    "$$TPR = \\frac{TP}{TP+FN} = 1-FNR$$\n",
    "\n",
    "The True Negative Rate (TNR), also called specificity, measures the proportion of actual negatives that are correctly identified as such.\n",
    "$$TNR = \\frac{TN}{TN+FP} = 1-FPR$$\n",
    "\n",
    "The False Positive Rate (FPR), measures the proportion of actual negatives that are identified as positives. If a NIDS has a high FPR, it will not find malicious software, making it useless.\n",
    "$$FPR = \\frac{FP}{TN+FP} = 1-TNR$$\n",
    "\n",
    "The False Negative Rate (FNR), measures the proportion of actual positives that are identified as negatives. If a NIDS has a high FNR, it will raise alarms for benign network traffic, causing a lot of frustration for the people on the network.\n",
    "$$FNR = \\frac{FN}{TP+FN} = 1-TPR$$\n",
    "\n",
    "The Accuracy (ACC) combines the TPR and FPR to get a complete overview of the system performance. An accuracy of 1.0 means everything is correctly classified. An accuracy of 0.0 means nothing is correctly classified.\n",
    "$$ACC = \\frac{TP+TN}{TP+TN+FP+FN}$$\n",
    "\n",
    "**Question 5.4.** Implement the 5 metrics according to their definitions."
   ]
  },
  {
   "cell_type": "code",
   "execution_count": 880,
   "metadata": {},
   "outputs": [
    {
     "name": "stdout",
     "output_type": "stream",
     "text": [
      "Metric | Value\n",
      "-----------------\n",
      "TPR    | 1.0\n",
      "TNR    | 0.9885471898197243\n",
      "FPR    | 0.011452810180275715\n",
      "FNR    | 0.0\n",
      "ACC    | 0.991588785046729\n"
     ]
    }
   ],
   "source": [
    "def TPR(predictions, labels):\n",
    "    \"\"\"Computes the True Positive Rate.\n",
    "    \n",
    "        Parameters\n",
    "        ----------\n",
    "        predictions : np.array of shape=(n_samples,)\n",
    "            Predicted values over which to compute TPR.\n",
    "            \n",
    "        labels : np.array of shape=(n_samples,)\n",
    "            Actual values over which to compute TPR.\n",
    "            \n",
    "        Returns\n",
    "        -------\n",
    "        result : float\n",
    "            True Positive Rate.\n",
    "        \"\"\"\n",
    "    # The code between this text should be implemented\n",
    "    return TP(predictions, labels)/(TP(predictions, labels) + FN(predictions, labels))\n",
    "    # The code between this text should be implemented\n",
    "\n",
    "def TNR(predictions, labels):\n",
    "    \"\"\"Computes the True Negative Rate.\n",
    "    \n",
    "        Parameters\n",
    "        ----------\n",
    "        predictions : np.array of shape=(n_samples,)\n",
    "            Predicted values over which to compute TNR.\n",
    "            \n",
    "        labels : np.array of shape=(n_samples,)\n",
    "            Actual values over which to compute TNR.\n",
    "            \n",
    "        Returns\n",
    "        -------\n",
    "        result : float\n",
    "            True Negative Rate.\n",
    "        \"\"\"\n",
    "    # The code between this text should be implemented\n",
    "    return TN(predictions, labels)/(TN(predictions, labels) + FP(predictions, labels))\n",
    "    # The code between this text should be implemented\n",
    "\n",
    "def FPR(predictions, labels):\n",
    "    \"\"\"Computes the False Positive Rate.\n",
    "    \n",
    "        Parameters\n",
    "        ----------\n",
    "        predictions : np.array of shape=(n_samples,)\n",
    "            Predicted values over which to compute FPR.\n",
    "            \n",
    "        labels : np.array of shape=(n_samples,)\n",
    "            Actual values over which to compute FPR.\n",
    "            \n",
    "        Returns\n",
    "        -------\n",
    "        result : float\n",
    "            False Positive Rate.\n",
    "        \"\"\"\n",
    "    # The code between this text should be implemented\n",
    "    return FP(predictions, labels)/(TN(predictions, labels) + FP(predictions, labels))\n",
    "    # The code between this text should be implemented\n",
    "\n",
    "def FNR(predictions, labels):\n",
    "    \"\"\"Computes the False Negative Rate.\n",
    "    \n",
    "        Parameters\n",
    "        ----------\n",
    "        predictions : np.array of shape=(n_samples,)\n",
    "            Predicted values over which to compute FNR.\n",
    "            \n",
    "        labels : np.array of shape=(n_samples,)\n",
    "            Actual values over which to compute FNR.\n",
    "            \n",
    "        Returns\n",
    "        -------\n",
    "        result : float\n",
    "            False Negative Rate.\n",
    "        \"\"\"\n",
    "    # The code between this text should be implemented\n",
    "    return FN(predictions, labels)/(TP(predictions, labels) + FN(predictions, labels))\n",
    "    # The code between this text should be implemented\n",
    "\n",
    "def ACC(predictions, labels):\n",
    "    \"\"\"Computes the Accuracy.\n",
    "    \n",
    "        Parameters\n",
    "        ----------\n",
    "        predictions : np.array of shape=(n_samples,)\n",
    "            Predicted values over which to compute ACC.\n",
    "            \n",
    "        labels : np.array of shape=(n_samples,)\n",
    "            Actual values over which to compute ACC.\n",
    "            \n",
    "        Returns\n",
    "        -------\n",
    "        result : float\n",
    "            Accuracy.\n",
    "        \"\"\"\n",
    "    # The code between this text should be implemented\n",
    "    return (TP(predictions, labels) + TN(predictions, labels))/(TP(predictions, labels) + TN(predictions, labels) + FP(predictions, labels) + FN(predictions, labels))\n",
    "    # The code between this text should be implemented\n",
    "\n",
    "    \n",
    "def print_metrics(predictions, labels):\n",
    "    \"\"\"Prints the metrics for given predictions and true labels.\n",
    "    \n",
    "        Parameters\n",
    "        ----------\n",
    "        predictions : array-like of shape=(n_samples,)\n",
    "            Predictions of your classifier\n",
    "            \n",
    "        labels : array-like of shape=(n_samples,)\n",
    "            Actual labels for the predicted data\n",
    "        \"\"\"\n",
    "    # Print all metrics in a table\n",
    "    print(\"Metric | Value\")\n",
    "    print(\"-----------------\")\n",
    "    print(\"TPR    | {}\".format(TPR(predictions, labels)))\n",
    "    print(\"TNR    | {}\".format(TNR(predictions, labels)))\n",
    "    print(\"FPR    | {}\".format(FPR(predictions, labels)))\n",
    "    print(\"FNR    | {}\".format(FNR(predictions, labels)))\n",
    "    print(\"ACC    | {}\".format(ACC(predictions, labels)))\n",
    "    \n",
    "# Show metrics\n",
    "print_metrics(prediction, y_test_as_pred)"
   ]
  },
  {
   "cell_type": "markdown",
   "metadata": {},
   "source": [
    "## 6. Optimisation\n",
    "**Question 6.1.** Look at the performance of your NIDS (given by the metrics), can you improve the performance? Perform the experiment again with different parameter settings and try to find parameters which give an accuracy of $\\geq$ 95% and a False Positive Rate of $\\leq$ 2%.\n",
    "\n",
    "*(Hint: If you cannot seem to get a good performance, perhaps the features that you have chosen for your NIDS in sections 1 and 2 need to be improved, or the model parameters that you have chosen in section 5 is not suitable for the NIDS.)*\n",
    "\n",
    "**Question 6.2.** Once you get a high accuracy, experiment with different `random_seed` values for the `split_train_test` method. This will split the dataset differently. If you suddenly see a drop in the performance of your NIDS, it means that you have overfitted your model. Try to optimise the parameters of your NIDS such that it is robust against overfitting.\n",
    "\n",
    "*(Hint: As we have seen in question 3.3, some applications are very much alike. If you see a huge drop in performance, go back and see how the applications were split into training and testing applications. There might be applications that are too alike to distinguish. Unfortunately, we cannot do anything about this.)*\n",
    "\n",
    "**Question 6.3.** Suppose that one of the desktop machines in your network has 2 applications installed $A_1$ and $A_2$. Now also suppose that the server in your network has installed the application $A_3$. Suddenly, the desktop machine starts to behave as if it was running $A_3$, would your NIDS be able to detect this?"
   ]
  },
  {
   "cell_type": "markdown",
   "metadata": {},
   "source": [
    "*Answer to Question 6.3* - No it would not be able to detect this unless there are some anomolies in the packet size or frequecy of packet transmission. If we want to detect that, we should choose other features as well."
   ]
  },
  {
   "cell_type": "markdown",
   "metadata": {},
   "source": [
    "**Question 6.4. (optional)** Try to redesign your NIDS in such a way that it will be able to detect new (i.e. malicious) applications on a per machine basis. Also try to come up with a way of testing whether your new NIDS is capable of detecting the scenario described in 6.3.\n",
    "\n",
    "**Hints:**\n",
    " 1. Use a different anomaly detector for each machine.\n",
    " 2. Think about which feature you can use to divide samples over each classifier."
   ]
  },
  {
   "cell_type": "code",
   "execution_count": 564,
   "metadata": {},
   "outputs": [
    {
     "ename": "SyntaxError",
     "evalue": "invalid syntax (<ipython-input-564-f1e61a85e167>, line 53)",
     "output_type": "error",
     "traceback": [
      "\u001b[0;36m  File \u001b[0;32m\"<ipython-input-564-f1e61a85e167>\"\u001b[0;36m, line \u001b[0;32m53\u001b[0m\n\u001b[0;31m    nids.train(<your_training_samples>)\u001b[0m\n\u001b[0m               ^\u001b[0m\n\u001b[0;31mSyntaxError\u001b[0m\u001b[0;31m:\u001b[0m invalid syntax\n"
     ]
    }
   ],
   "source": [
    "# Answer question 6.4 here.\n",
    "\n",
    "from sklearn.svm import OneClassSVM\n",
    "\n",
    "class NIDS_multiclass(object):\n",
    "    \n",
    "    def __init__(self):\n",
    "        \"\"\"Network Intrusion Detection System (NIDS).\n",
    "            This code is executed when you create a new NIDS object.\n",
    "            Here you can create classifiers per machine\n",
    "            \"\"\"\n",
    "        # The code between this text should be implemented\n",
    "        pass\n",
    "        # The code between this text should be implemented\n",
    "    \n",
    "    def train(self, X):\n",
    "        \"\"\"Train your NIDS by fitting the classifier(s).\n",
    "        \n",
    "            Parameters\n",
    "            ----------\n",
    "            X : array-like of shape=(n_samples, n_features)\n",
    "                Data used to train your classifier(s).\n",
    "            \"\"\"\n",
    "        # The code between this text should be implemented\n",
    "        pass\n",
    "        # The code between this text should be implemented\n",
    "    \n",
    "    def predict(self, X):\n",
    "        \"\"\"Predict samples using your NIDS.\n",
    "        \n",
    "            Parameters\n",
    "            ----------\n",
    "            X : array-like of shape=(n_samples, n_features)\n",
    "                Data which your classifier(s) should predict\n",
    "                \n",
    "            Returns\n",
    "            -------\n",
    "            result : np.array of shape=(n_samples,)\n",
    "                Output labels of +1 if known or -1 if anomaly.\n",
    "            \"\"\"\n",
    "        # The code between this text should be implemented\n",
    "        pass\n",
    "        # The code between this text should be implemented\n",
    "\n",
    "# The code between this text should be implemented to test the scenario from Question 6.3.\n",
    "pass\n",
    "# The code between this text should be implemented to test the scenario from Question 6.3.\n",
    "\n",
    "\n",
    "# Create NIDS\n",
    "nids = NIDS_multiclass()\n",
    "# Fit NIDS classifier with training data\n",
    "nids.train(<your_training_samples>)\n",
    "# Perform prediction\n",
    "prediction = nids.predict(<your_training_samples>)\n",
    "\n",
    "# Show performance\n",
    "print_metrics(prediction, <your_testing_labels>)"
   ]
  },
  {
   "cell_type": "markdown",
   "metadata": {},
   "source": [
    "## 7. Passing the assignment\n",
    "You have created a NIDS which is optimised for the data from `benign.csv`, now we will use this NIDS to predict whether messages from the dataset `unknown.csv` are benign (+1) or malicious (-1). To check the performance of your NIDS and whether you passed the assignment we use the `submit` method. This method submits your prediction to our server which checks the performance.\n",
    "\n",
    "**NB:** the `submit` method requires internet access."
   ]
  },
  {
   "cell_type": "code",
   "execution_count": 881,
   "metadata": {},
   "outputs": [],
   "source": [
    "import requests\n",
    "import json\n",
    "\n",
    "def submit(prediction, student_number, highscore_name=None):\n",
    "    \"\"\"Submit your prediction to the server to check if the prediction of your unknown data is correct.\n",
    "        The result will print whether you passed the assignment or not.\n",
    "    \n",
    "        Parameters\n",
    "        ----------\n",
    "        prediction : array-like of shape=(n_samples_unknown,)\n",
    "            Prediction of unknown datapoints.\n",
    "            \n",
    "        student_number : string\n",
    "            Your student number as a string, e.g., 's1234567'\n",
    "            Please use your actual student number, we have build in \n",
    "        \n",
    "        highscore_name : string, optional\n",
    "            If given, your performance will be published on the highscore page under this name\n",
    "        \"\"\"\n",
    "    # Get prediction as list\n",
    "    prediction = np.asarray(prediction, dtype=int).tolist()\n",
    "    # Create JSON data to send\n",
    "    data = {\"prediction\"    : prediction,\n",
    "            \"student_number\": student_number,\n",
    "            \"name\"          : highscore_name}\n",
    "    # Submit data\n",
    "    r = requests.post(\"https://vm-thijs.ewi.utwente.nl/ml/submit/\", json=data)\n",
    "    # Read response\n",
    "    r = json.loads(r.text)\n",
    "    \n",
    "    # Print errors if any\n",
    "    if len(r.get('errors', [])) > 0:\n",
    "        print(\"Errors found:\")\n",
    "        for error in r.get('errors'):\n",
    "            print(\"    - {}\".format(error))\n",
    "        print()\n",
    "    \n",
    "    # Show performance\n",
    "    print(\"Metrics | Value\")\n",
    "    print(\"-----------------\")\n",
    "    print(\"TPR      | {:10.7}\".format(r.get('TPR', float('NaN'))))\n",
    "    print(\"TNR      | {:10.7}\".format(r.get('TNR', float('NaN'))))\n",
    "    print(\"FPR      | {:10.7}\".format(r.get('FPR', float('NaN'))))\n",
    "    print(\"FNR      | {:10.7}\".format(r.get('FNR', float('NaN'))))\n",
    "    print(\"ACC      | {:10.7}\".format(r.get('ACC', float('NaN'))))\n",
    "    print()\n",
    "    \n",
    "    # Check if you passed\n",
    "    if r.get('ACC', 0) > 0.90 and r.get('FPR', 1) < 0.05:\n",
    "        print(\"You have passed the assignment!\")\n",
    "    else:\n",
    "        print(\"You have not yet passed the assignment.\")"
   ]
  },
  {
   "cell_type": "markdown",
   "metadata": {},
   "source": [
    "**Question 7.1.** Make a prediction on the data from the `unknown.csv` dataset and call the method `submit` with your answer. It will display the performance of your NIDS. If you achieve an accuracy of $\\geq$ 90% with a False Positive Rate of $\\leq$ 5%, you have passed the assignment.\n",
    "\n",
    "**Important notices:**\n",
    " 1. We store your submissions on our server and these values will be used to check if you passed the assignment or not. Therefore, make sure that you submit your prediction correctly using the `submit` method. If any error occurs, the error message will be printed. If you are unable to fix these error messages, please contact the TA at [t.s.vanede@utwente.nl](mailto:t.s.vanede@utwente.nl).\n",
    " 2. The `check_prediction` method requires internet access.\n",
    " 3. This assignment is graded individually. Please use your actual student number, e.g. `s1234567` and only your own student number. We log each sign of misconduct.\n",
    " 4. If you want to participate in the highscores, please provide a `highscore_name`. If you **do not** want your name to appear in the highscores please leave this field to `None`. You can check the highscores at [vm-thijs.ewi.utwente.nl/ml/](https://vm-thijs.ewi.utwente.nl/ml/)."
   ]
  },
  {
   "cell_type": "code",
   "execution_count": 862,
   "metadata": {},
   "outputs": [
    {
     "name": "stdout",
     "output_type": "stream",
     "text": [
      "Errors found:\n",
      "    - Your solution is already registered in the database and you passed. If you want to submit again, try a different/improved solution.\n",
      "\n",
      "Metrics | Value\n",
      "-----------------\n",
      "TPR      |  0.4710691\n",
      "TNR      |  0.9791376\n",
      "FPR      | 0.02086239\n",
      "FNR      |  0.5289309\n",
      "ACC      |  0.9011684\n",
      "\n",
      "You have passed the assignment!\n"
     ]
    }
   ],
   "source": [
    "# Answer Question 7.1 here\n",
    "\n",
    "nids = NIDS()\n",
    "# Fit NIDS classifier with training data\n",
    "nids.train(X_benign_scaled)               # Important to train with the scaled data\n",
    "# Perform prediction\n",
    "prediction = nids.predict(X_unknown_scaled)    # Important to predict the entire scaled unknown data\n",
    "\n",
    "# Will show you whether you passed the assignment\n",
    "# Note: Change \"<your_student_number>\" with your student number as a string\n",
    "# Note: Only set a highscore_name if you want to participate in the highscore ranking\n",
    "submit(prediction, student_number=\"s1936514\", highscore_name=\"WWIII\")"
   ]
  },
  {
   "cell_type": "code",
   "execution_count": null,
   "metadata": {},
   "outputs": [],
   "source": []
  }
 ],
 "metadata": {
  "kernelspec": {
   "display_name": "Python 3",
   "language": "python",
   "name": "python3"
  },
  "language_info": {
   "codemirror_mode": {
    "name": "ipython",
    "version": 3
   },
   "file_extension": ".py",
   "mimetype": "text/x-python",
   "name": "python",
   "nbconvert_exporter": "python",
   "pygments_lexer": "ipython3",
   "version": "3.7.4"
  }
 },
 "nbformat": 4,
 "nbformat_minor": 2
}
